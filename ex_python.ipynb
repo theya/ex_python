{
 "cells": [
  {
   "cell_type": "markdown",
   "metadata": {},
   "source": [
    "# Exercice Python : Lecture d'un fichier CSV"
   ]
  },
  {
   "cell_type": "markdown",
   "metadata": {},
   "source": [
    "## Lecture"
   ]
  },
  {
   "cell_type": "markdown",
   "metadata": {},
   "source": [
    "Je me permets de commencer par l'import de la librairie `pandas` plutôt de `csv`. Cette librairie est réputée pour son côté pratique et se rapproche de ce qui se fait en R."
   ]
  },
  {
   "cell_type": "code",
   "execution_count": 716,
   "metadata": {
    "collapsed": true
   },
   "outputs": [],
   "source": [
    "import pandas as pd\n",
    "\n",
    "# Paramétrage de l'affichage des colonnes\n",
    "pd.options.display.max_columns = 99"
   ]
  },
  {
   "cell_type": "markdown",
   "metadata": {},
   "source": [
    "L'échantillon n'étant pas encodé dans les formats par défaut (UTF-8 avec des séparateurs `,`), je précise ces éléments à la lecture du fichier CSV."
   ]
  },
  {
   "cell_type": "code",
   "execution_count": 717,
   "metadata": {
    "collapsed": false
   },
   "outputs": [
    {
     "data": {
      "text/html": [
       "<div>\n",
       "<table border=\"1\" class=\"dataframe\">\n",
       "  <thead>\n",
       "    <tr style=\"text-align: right;\">\n",
       "      <th></th>\n",
       "      <th>Numero billet</th>\n",
       "      <th>Commande</th>\n",
       "      <th>Reservation</th>\n",
       "      <th>Date reservation</th>\n",
       "      <th>Heure reservation</th>\n",
       "      <th>Cle spectacle</th>\n",
       "      <th>Spectacle</th>\n",
       "      <th>Cle representation</th>\n",
       "      <th>Representation</th>\n",
       "      <th>Date representation</th>\n",
       "      <th>Heure representation</th>\n",
       "      <th>Date fin representation</th>\n",
       "      <th>Heure fin representation</th>\n",
       "      <th>Prix</th>\n",
       "      <th>Date acces</th>\n",
       "      <th>Heure acces</th>\n",
       "      <th>Tarif</th>\n",
       "      <th>Type de client</th>\n",
       "      <th>Type de produit</th>\n",
       "      <th>Serie</th>\n",
       "      <th>Etage</th>\n",
       "      <th>Filiere de vente</th>\n",
       "      <th>Nom</th>\n",
       "      <th>Prenom</th>\n",
       "      <th>Email</th>\n",
       "      <th>Adresse</th>\n",
       "      <th>Code postal</th>\n",
       "      <th>Pays</th>\n",
       "      <th>Age</th>\n",
       "      <th>Sexe</th>\n",
       "    </tr>\n",
       "  </thead>\n",
       "  <tbody>\n",
       "    <tr>\n",
       "      <th>0</th>\n",
       "      <td>1400222</td>\n",
       "      <td>NaN</td>\n",
       "      <td>843989</td>\n",
       "      <td>04/06/15 00:00</td>\n",
       "      <td>16:26:04</td>\n",
       "      <td>476</td>\n",
       "      <td>FEMME NON-REEDUCABLE</td>\n",
       "      <td>3191</td>\n",
       "      <td>FEMME NON-REEDUCABLE</td>\n",
       "      <td>10/10/14</td>\n",
       "      <td>20:00:00</td>\n",
       "      <td>10/10/14</td>\n",
       "      <td>22:00:00</td>\n",
       "      <td>27.0</td>\n",
       "      <td>10/10/14</td>\n",
       "      <td>19:49:11</td>\n",
       "      <td>Abonnement mouettes</td>\n",
       "      <td>Client</td>\n",
       "      <td>Abonnement</td>\n",
       "      <td>1er Serie</td>\n",
       "      <td>CORBEILLE</td>\n",
       "      <td>GUICHET</td>\n",
       "      <td>KEBIR</td>\n",
       "      <td>Fran_ois-Jean</td>\n",
       "      <td>Fran_ois-Jean.KEBIR@mail.fr</td>\n",
       "      <td>7 rue des Acinonyx jubatus</td>\n",
       "      <td>69110</td>\n",
       "      <td>France</td>\n",
       "      <td>57.0</td>\n",
       "      <td>F</td>\n",
       "    </tr>\n",
       "    <tr>\n",
       "      <th>1</th>\n",
       "      <td>1400223</td>\n",
       "      <td>NaN</td>\n",
       "      <td>843990</td>\n",
       "      <td>04/06/15 00:00</td>\n",
       "      <td>16:26:04</td>\n",
       "      <td>477</td>\n",
       "      <td>G©n©rale Publique Fever</td>\n",
       "      <td>3204</td>\n",
       "      <td>G©n©rale Publique Fever</td>\n",
       "      <td>05/11/14</td>\n",
       "      <td>20:00:00</td>\n",
       "      <td>05/11/14</td>\n",
       "      <td>21:30:00</td>\n",
       "      <td>27.0</td>\n",
       "      <td>05/11/14</td>\n",
       "      <td>19:52:17</td>\n",
       "      <td>Abonnement mouettes</td>\n",
       "      <td>Client</td>\n",
       "      <td>Abonnement</td>\n",
       "      <td>1er Serie</td>\n",
       "      <td>CORBEILLE</td>\n",
       "      <td>GUICHET</td>\n",
       "      <td>KEBIR</td>\n",
       "      <td>Fran_ois-Jean</td>\n",
       "      <td>Fran_ois-Jean.KEBIR@mail.fr</td>\n",
       "      <td>7 rue des Acinonyx jubatus</td>\n",
       "      <td>69110</td>\n",
       "      <td>France</td>\n",
       "      <td>57.0</td>\n",
       "      <td>F</td>\n",
       "    </tr>\n",
       "    <tr>\n",
       "      <th>2</th>\n",
       "      <td>1400225</td>\n",
       "      <td>NaN</td>\n",
       "      <td>843991</td>\n",
       "      <td>04/06/15 00:00</td>\n",
       "      <td>16:26:04</td>\n",
       "      <td>479</td>\n",
       "      <td>L'HISTOIRE TERRIBLE... 2e EPOQUE</td>\n",
       "      <td>3218</td>\n",
       "      <td>L'HISTOIRE TERRIBLE... 2e EPOQUE</td>\n",
       "      <td>28/11/14</td>\n",
       "      <td>20:00:00</td>\n",
       "      <td>28/11/14</td>\n",
       "      <td>23:30:00</td>\n",
       "      <td>27.0</td>\n",
       "      <td>28/11/14</td>\n",
       "      <td>19:52:07</td>\n",
       "      <td>Abonnement mouettes</td>\n",
       "      <td>Client</td>\n",
       "      <td>Abonnement</td>\n",
       "      <td>1er Serie</td>\n",
       "      <td>CORBEILLE</td>\n",
       "      <td>GUICHET</td>\n",
       "      <td>KEBIR</td>\n",
       "      <td>Fran_ois-Jean</td>\n",
       "      <td>Fran_ois-Jean.KEBIR@mail.fr</td>\n",
       "      <td>7 rue des Acinonyx jubatus</td>\n",
       "      <td>69110</td>\n",
       "      <td>France</td>\n",
       "      <td>57.0</td>\n",
       "      <td>F</td>\n",
       "    </tr>\n",
       "    <tr>\n",
       "      <th>3</th>\n",
       "      <td>1400228</td>\n",
       "      <td>NaN</td>\n",
       "      <td>843992</td>\n",
       "      <td>04/06/15 00:00</td>\n",
       "      <td>16:26:04</td>\n",
       "      <td>482</td>\n",
       "      <td>LE ROI LEAR</td>\n",
       "      <td>3257</td>\n",
       "      <td>LE ROI LEAR</td>\n",
       "      <td>14/01/15</td>\n",
       "      <td>20:00:00</td>\n",
       "      <td>14/01/15</td>\n",
       "      <td>21:40:00</td>\n",
       "      <td>27.0</td>\n",
       "      <td>14/01/15</td>\n",
       "      <td>19:57:08</td>\n",
       "      <td>Abonnement mouettes</td>\n",
       "      <td>Client</td>\n",
       "      <td>Abonnement</td>\n",
       "      <td>1er Serie</td>\n",
       "      <td>ORCHESTRE</td>\n",
       "      <td>GUICHET</td>\n",
       "      <td>KEBIR</td>\n",
       "      <td>Fran_ois-Jean</td>\n",
       "      <td>Fran_ois-Jean.KEBIR@mail.fr</td>\n",
       "      <td>7 rue des Acinonyx jubatus</td>\n",
       "      <td>69110</td>\n",
       "      <td>France</td>\n",
       "      <td>57.0</td>\n",
       "      <td>F</td>\n",
       "    </tr>\n",
       "    <tr>\n",
       "      <th>4</th>\n",
       "      <td>1400229</td>\n",
       "      <td>NaN</td>\n",
       "      <td>843986</td>\n",
       "      <td>04/06/15 00:00</td>\n",
       "      <td>16:26:04</td>\n",
       "      <td>483</td>\n",
       "      <td>JE SUIS</td>\n",
       "      <td>3268</td>\n",
       "      <td>JE SUIS</td>\n",
       "      <td>16/01/15</td>\n",
       "      <td>20:00:00</td>\n",
       "      <td>16/01/15</td>\n",
       "      <td>21:30:00</td>\n",
       "      <td>15.0</td>\n",
       "      <td>NaN</td>\n",
       "      <td>NaN</td>\n",
       "      <td>Abonnement mouettes</td>\n",
       "      <td>Client</td>\n",
       "      <td>Abonnement</td>\n",
       "      <td>Serie unique</td>\n",
       "      <td>NaN</td>\n",
       "      <td>GUICHET</td>\n",
       "      <td>KEBIR</td>\n",
       "      <td>Fran_ois-Jean</td>\n",
       "      <td>Fran_ois-Jean.KEBIR@mail.fr</td>\n",
       "      <td>7 rue des Acinonyx jubatus</td>\n",
       "      <td>69110</td>\n",
       "      <td>France</td>\n",
       "      <td>57.0</td>\n",
       "      <td>F</td>\n",
       "    </tr>\n",
       "  </tbody>\n",
       "</table>\n",
       "</div>"
      ],
      "text/plain": [
       "   Numero billet  Commande  Reservation Date reservation Heure reservation  \\\n",
       "0        1400222       NaN       843989   04/06/15 00:00          16:26:04   \n",
       "1        1400223       NaN       843990   04/06/15 00:00          16:26:04   \n",
       "2        1400225       NaN       843991   04/06/15 00:00          16:26:04   \n",
       "3        1400228       NaN       843992   04/06/15 00:00          16:26:04   \n",
       "4        1400229       NaN       843986   04/06/15 00:00          16:26:04   \n",
       "\n",
       "   Cle spectacle                         Spectacle  Cle representation  \\\n",
       "0            476              FEMME NON-REEDUCABLE                3191   \n",
       "1            477         G©n©rale Publique Fever                3204   \n",
       "2            479  L'HISTOIRE TERRIBLE... 2e EPOQUE                3218   \n",
       "3            482                       LE ROI LEAR                3257   \n",
       "4            483                           JE SUIS                3268   \n",
       "\n",
       "                     Representation Date representation Heure representation  \\\n",
       "0              FEMME NON-REEDUCABLE            10/10/14             20:00:00   \n",
       "1         G©n©rale Publique Fever            05/11/14             20:00:00   \n",
       "2  L'HISTOIRE TERRIBLE... 2e EPOQUE            28/11/14             20:00:00   \n",
       "3                       LE ROI LEAR            14/01/15             20:00:00   \n",
       "4                           JE SUIS            16/01/15             20:00:00   \n",
       "\n",
       "  Date fin representation Heure fin representation  Prix Date acces  \\\n",
       "0                10/10/14                 22:00:00  27.0   10/10/14   \n",
       "1                05/11/14                 21:30:00  27.0   05/11/14   \n",
       "2                28/11/14                 23:30:00  27.0   28/11/14   \n",
       "3                14/01/15                 21:40:00  27.0   14/01/15   \n",
       "4                16/01/15                 21:30:00  15.0        NaN   \n",
       "\n",
       "  Heure acces                Tarif Type de client Type de produit  \\\n",
       "0    19:49:11  Abonnement mouettes         Client      Abonnement   \n",
       "1    19:52:17  Abonnement mouettes         Client      Abonnement   \n",
       "2    19:52:07  Abonnement mouettes         Client      Abonnement   \n",
       "3    19:57:08  Abonnement mouettes         Client      Abonnement   \n",
       "4         NaN  Abonnement mouettes         Client      Abonnement   \n",
       "\n",
       "          Serie      Etage Filiere de vente    Nom          Prenom  \\\n",
       "0     1er Serie  CORBEILLE          GUICHET  KEBIR  Fran_ois-Jean   \n",
       "1     1er Serie  CORBEILLE          GUICHET  KEBIR  Fran_ois-Jean   \n",
       "2     1er Serie  CORBEILLE          GUICHET  KEBIR  Fran_ois-Jean   \n",
       "3     1er Serie  ORCHESTRE          GUICHET  KEBIR  Fran_ois-Jean   \n",
       "4  Serie unique        NaN          GUICHET  KEBIR  Fran_ois-Jean   \n",
       "\n",
       "                          Email                     Adresse  Code postal  \\\n",
       "0  Fran_ois-Jean.KEBIR@mail.fr  7 rue des Acinonyx jubatus        69110   \n",
       "1  Fran_ois-Jean.KEBIR@mail.fr  7 rue des Acinonyx jubatus        69110   \n",
       "2  Fran_ois-Jean.KEBIR@mail.fr  7 rue des Acinonyx jubatus        69110   \n",
       "3  Fran_ois-Jean.KEBIR@mail.fr  7 rue des Acinonyx jubatus        69110   \n",
       "4  Fran_ois-Jean.KEBIR@mail.fr  7 rue des Acinonyx jubatus        69110   \n",
       "\n",
       "     Pays   Age Sexe  \n",
       "0  France  57.0    F  \n",
       "1  France  57.0    F  \n",
       "2  France  57.0    F  \n",
       "3  France  57.0    F  \n",
       "4  France  57.0    F  "
      ]
     },
     "execution_count": 717,
     "metadata": {},
     "output_type": "execute_result"
    }
   ],
   "source": [
    "data = pd.read_csv('/Users/theyanike/Documents/DataScience/TechTest/Tech4team/sample.csv', \n",
    "                   encoding='latin-1', \n",
    "                   sep=';')\n",
    "data.head()"
   ]
  },
  {
   "cell_type": "markdown",
   "metadata": {},
   "source": [
    "La variable `Date reservation` que nous utiliserons plus tard doit être revue pour avoir un format correct à la lecture."
   ]
  },
  {
   "cell_type": "code",
   "execution_count": 718,
   "metadata": {
    "collapsed": false
   },
   "outputs": [],
   "source": [
    "# Conversion en format date\n",
    "data['Date sell'] = data['Date reservation'].apply(pd.to_datetime, format='%d/%m/%y %H:%M')\n",
    "\n",
    "# Retour en 'object' avec format unlisible\n",
    "data['Date sell'] = data['Date sell'].apply(lambda date: date.strftime('%d %B% %Y'))"
   ]
  },
  {
   "cell_type": "markdown",
   "metadata": {},
   "source": [
    "## Exploration"
   ]
  },
  {
   "cell_type": "markdown",
   "metadata": {},
   "source": [
    "### Général"
   ]
  },
  {
   "cell_type": "markdown",
   "metadata": {},
   "source": [
    "Voici quelques informations qui me permettront d'en savoir plus sur la donnée."
   ]
  },
  {
   "cell_type": "code",
   "execution_count": 719,
   "metadata": {
    "collapsed": false
   },
   "outputs": [
    {
     "name": "stdout",
     "output_type": "stream",
     "text": [
      "Le dataset contient 99 lignes et 31 colonnes.\n"
     ]
    }
   ],
   "source": [
    "print(\"Le dataset contient\", data.shape[0], \"lignes et\", data.shape[1], \"colonnes.\")"
   ]
  },
  {
   "cell_type": "code",
   "execution_count": 720,
   "metadata": {
    "collapsed": false
   },
   "outputs": [
    {
     "name": "stdout",
     "output_type": "stream",
     "text": [
      "Il y a eu un total de 73 réservations uniques.\n"
     ]
    }
   ],
   "source": [
    "print(\"Il y a eu un total de\", len(data['Reservation'].unique()), \"réservations uniques.\")"
   ]
  },
  {
   "cell_type": "markdown",
   "metadata": {},
   "source": [
    "### Âge des clients"
   ]
  },
  {
   "cell_type": "code",
   "execution_count": 721,
   "metadata": {
    "collapsed": false
   },
   "outputs": [],
   "source": [
    "# Mémorisation des informations\n",
    "age_desc = data['Age'].describe()\n",
    "\n",
    "# Création d'un résumé sous la forme d'un dataframe \n",
    "age_summary = pd.DataFrame(index=[\"Moyenne\", \"Médiane\", \"Valeur max\", \"Valeur min\", \"Q1\", \"Q3\"]) \n",
    "age_summary['Âge des clients'] = [ageDesc['mean'], \n",
    "                                  ageDesc['50%'], \n",
    "                                  ageDesc['max'], \n",
    "                                  ageDesc['min'], \n",
    "                                  ageDesc['25%'], \n",
    "                                  ageDesc['75%']]"
   ]
  },
  {
   "cell_type": "markdown",
   "metadata": {},
   "source": [
    "Voici les **données descriptives concernant l'âge des clients**."
   ]
  },
  {
   "cell_type": "code",
   "execution_count": 722,
   "metadata": {
    "collapsed": false
   },
   "outputs": [
    {
     "data": {
      "text/html": [
       "<div>\n",
       "<table border=\"1\" class=\"dataframe\">\n",
       "  <thead>\n",
       "    <tr style=\"text-align: right;\">\n",
       "      <th></th>\n",
       "      <th>Âge des clients</th>\n",
       "    </tr>\n",
       "  </thead>\n",
       "  <tbody>\n",
       "    <tr>\n",
       "      <th>Moyenne</th>\n",
       "      <td>68.514286</td>\n",
       "    </tr>\n",
       "    <tr>\n",
       "      <th>Médiane</th>\n",
       "      <td>66.000000</td>\n",
       "    </tr>\n",
       "    <tr>\n",
       "      <th>Valeur max</th>\n",
       "      <td>81.000000</td>\n",
       "    </tr>\n",
       "    <tr>\n",
       "      <th>Valeur min</th>\n",
       "      <td>50.000000</td>\n",
       "    </tr>\n",
       "    <tr>\n",
       "      <th>Q1</th>\n",
       "      <td>57.000000</td>\n",
       "    </tr>\n",
       "    <tr>\n",
       "      <th>Q3</th>\n",
       "      <td>81.000000</td>\n",
       "    </tr>\n",
       "  </tbody>\n",
       "</table>\n",
       "</div>"
      ],
      "text/plain": [
       "            Âge des clients\n",
       "Moyenne           68.514286\n",
       "Médiane           66.000000\n",
       "Valeur max        81.000000\n",
       "Valeur min        50.000000\n",
       "Q1                57.000000\n",
       "Q3                81.000000"
      ]
     },
     "execution_count": 722,
     "metadata": {},
     "output_type": "execute_result"
    }
   ],
   "source": [
    "age_summary"
   ]
  },
  {
   "cell_type": "markdown",
   "metadata": {},
   "source": [
    "### Spectacles"
   ]
  },
  {
   "cell_type": "code",
   "execution_count": 723,
   "metadata": {
    "collapsed": false
   },
   "outputs": [
    {
     "name": "stdout",
     "output_type": "stream",
     "text": [
      "La donnée concerne 25 représentations.\n"
     ]
    }
   ],
   "source": [
    "print(\"La donnée concerne\", len(data['Spectacle'].unique()), \"représentations.\")"
   ]
  },
  {
   "cell_type": "markdown",
   "metadata": {},
   "source": [
    "J'importe la deuxième librairie dont j'ai besoin, `numpy`."
   ]
  },
  {
   "cell_type": "code",
   "execution_count": 724,
   "metadata": {
    "collapsed": true
   },
   "outputs": [],
   "source": [
    "import numpy as np"
   ]
  },
  {
   "cell_type": "markdown",
   "metadata": {},
   "source": [
    "Nous créons un dataframe ne contenant que trois des variables de `data`. La donnée est manipulée afin de mettre en valeur la moyenne des prix selon le spectacle."
   ]
  },
  {
   "cell_type": "code",
   "execution_count": 725,
   "metadata": {
    "collapsed": false
   },
   "outputs": [
    {
     "data": {
      "text/html": [
       "<div>\n",
       "<table border=\"1\" class=\"dataframe\">\n",
       "  <thead>\n",
       "    <tr>\n",
       "      <th></th>\n",
       "      <th colspan=\"2\" halign=\"left\">Prix</th>\n",
       "      <th>Cle spectacle</th>\n",
       "    </tr>\n",
       "    <tr>\n",
       "      <th></th>\n",
       "      <th>Nb. prix différents</th>\n",
       "      <th>Moyenne</th>\n",
       "      <th>Nb. spectateurs</th>\n",
       "    </tr>\n",
       "    <tr>\n",
       "      <th>Cle spectacle</th>\n",
       "      <th></th>\n",
       "      <th></th>\n",
       "      <th></th>\n",
       "    </tr>\n",
       "  </thead>\n",
       "  <tbody>\n",
       "    <tr>\n",
       "      <th>476</th>\n",
       "      <td>1.0</td>\n",
       "      <td>27.00</td>\n",
       "      <td>1</td>\n",
       "    </tr>\n",
       "    <tr>\n",
       "      <th>477</th>\n",
       "      <td>1.0</td>\n",
       "      <td>27.00</td>\n",
       "      <td>1</td>\n",
       "    </tr>\n",
       "    <tr>\n",
       "      <th>479</th>\n",
       "      <td>1.0</td>\n",
       "      <td>27.00</td>\n",
       "      <td>1</td>\n",
       "    </tr>\n",
       "    <tr>\n",
       "      <th>482</th>\n",
       "      <td>1.0</td>\n",
       "      <td>27.00</td>\n",
       "      <td>1</td>\n",
       "    </tr>\n",
       "    <tr>\n",
       "      <th>483</th>\n",
       "      <td>1.0</td>\n",
       "      <td>15.00</td>\n",
       "      <td>1</td>\n",
       "    </tr>\n",
       "    <tr>\n",
       "      <th>485</th>\n",
       "      <td>1.0</td>\n",
       "      <td>27.00</td>\n",
       "      <td>1</td>\n",
       "    </tr>\n",
       "    <tr>\n",
       "      <th>490</th>\n",
       "      <td>1.0</td>\n",
       "      <td>27.00</td>\n",
       "      <td>1</td>\n",
       "    </tr>\n",
       "    <tr>\n",
       "      <th>497</th>\n",
       "      <td>2.0</td>\n",
       "      <td>16.00</td>\n",
       "      <td>16</td>\n",
       "    </tr>\n",
       "    <tr>\n",
       "      <th>498</th>\n",
       "      <td>2.0</td>\n",
       "      <td>18.33</td>\n",
       "      <td>9</td>\n",
       "    </tr>\n",
       "    <tr>\n",
       "      <th>499</th>\n",
       "      <td>1.0</td>\n",
       "      <td>31.00</td>\n",
       "      <td>1</td>\n",
       "    </tr>\n",
       "    <tr>\n",
       "      <th>537</th>\n",
       "      <td>2.0</td>\n",
       "      <td>26.00</td>\n",
       "      <td>5</td>\n",
       "    </tr>\n",
       "    <tr>\n",
       "      <th>538</th>\n",
       "      <td>2.0</td>\n",
       "      <td>28.00</td>\n",
       "      <td>10</td>\n",
       "    </tr>\n",
       "    <tr>\n",
       "      <th>539</th>\n",
       "      <td>1.0</td>\n",
       "      <td>27.00</td>\n",
       "      <td>4</td>\n",
       "    </tr>\n",
       "    <tr>\n",
       "      <th>543</th>\n",
       "      <td>2.0</td>\n",
       "      <td>24.50</td>\n",
       "      <td>2</td>\n",
       "    </tr>\n",
       "    <tr>\n",
       "      <th>545</th>\n",
       "      <td>1.0</td>\n",
       "      <td>27.00</td>\n",
       "      <td>3</td>\n",
       "    </tr>\n",
       "    <tr>\n",
       "      <th>546</th>\n",
       "      <td>1.0</td>\n",
       "      <td>27.00</td>\n",
       "      <td>2</td>\n",
       "    </tr>\n",
       "    <tr>\n",
       "      <th>548</th>\n",
       "      <td>1.0</td>\n",
       "      <td>27.00</td>\n",
       "      <td>4</td>\n",
       "    </tr>\n",
       "    <tr>\n",
       "      <th>549</th>\n",
       "      <td>1.0</td>\n",
       "      <td>27.00</td>\n",
       "      <td>10</td>\n",
       "    </tr>\n",
       "    <tr>\n",
       "      <th>551</th>\n",
       "      <td>2.0</td>\n",
       "      <td>26.29</td>\n",
       "      <td>7</td>\n",
       "    </tr>\n",
       "    <tr>\n",
       "      <th>552</th>\n",
       "      <td>1.0</td>\n",
       "      <td>15.00</td>\n",
       "      <td>4</td>\n",
       "    </tr>\n",
       "  </tbody>\n",
       "</table>\n",
       "</div>"
      ],
      "text/plain": [
       "                             Prix           Cle spectacle\n",
       "              Nb. prix différents Moyenne Nb. spectateurs\n",
       "Cle spectacle                                            \n",
       "476                           1.0   27.00               1\n",
       "477                           1.0   27.00               1\n",
       "479                           1.0   27.00               1\n",
       "482                           1.0   27.00               1\n",
       "483                           1.0   15.00               1\n",
       "485                           1.0   27.00               1\n",
       "490                           1.0   27.00               1\n",
       "497                           2.0   16.00              16\n",
       "498                           2.0   18.33               9\n",
       "499                           1.0   31.00               1\n",
       "537                           2.0   26.00               5\n",
       "538                           2.0   28.00              10\n",
       "539                           1.0   27.00               4\n",
       "543                           2.0   24.50               2\n",
       "545                           1.0   27.00               3\n",
       "546                           1.0   27.00               2\n",
       "548                           1.0   27.00               4\n",
       "549                           1.0   27.00              10\n",
       "551                           2.0   26.29               7\n",
       "552                           1.0   15.00               4"
      ]
     },
     "execution_count": 725,
     "metadata": {},
     "output_type": "execute_result"
    }
   ],
   "source": [
    "spect = pd.concat([data['Spectacle'], data['Cle spectacle'], data['Prix']], axis=1)\n",
    "\n",
    "# Paramétrage des élements à aggréger\n",
    "aggregations = {\n",
    "    'Prix': {\n",
    "        # Calcul de la moyenne arrondie au 100è\n",
    "        'Moyenne': lambda prix: np.round(np.mean(prix), 2),\n",
    "        # Affichage de la longueur de la liste des prix uniques\n",
    "        'Nb. prix différents': lambda nb: len(set(nb))\n",
    "    },\n",
    "    'Cle spectacle': {\n",
    "        'Nb. spectateurs': 'count'\n",
    "    }\n",
    "}\n",
    "\n",
    "# Tri et aggrégation\n",
    "spect_group = spect.groupby('Cle spectacle').agg(aggregations)\n",
    "spect_group.head(20)"
   ]
  },
  {
   "cell_type": "markdown",
   "metadata": {},
   "source": [
    "Le **prix moyen par spectacle** est disponible dans la colonne **Moyenne**."
   ]
  },
  {
   "cell_type": "markdown",
   "metadata": {},
   "source": [
    "### Dates et heures d'achat"
   ]
  },
  {
   "cell_type": "markdown",
   "metadata": {},
   "source": [
    "Je fais appel à la troisième librairie `matplotlib` afin de pouvoir réaliser des graphiques."
   ]
  },
  {
   "cell_type": "code",
   "execution_count": 726,
   "metadata": {
    "collapsed": false
   },
   "outputs": [],
   "source": [
    "# Affichage des graphiques\n",
    "%matplotlib inline \n",
    "\n",
    "import matplotlib.pyplot as plt\n",
    "# Paramétrage du style des graphiques\n",
    "plt.style.use('ggplot')"
   ]
  },
  {
   "cell_type": "markdown",
   "metadata": {},
   "source": [
    "Pour en revenir à la date, nous devons la transformer une fois de plus pour la reconvertir en type `Date` pour notre nouvelle variable `Datetime sell`."
   ]
  },
  {
   "cell_type": "code",
   "execution_count": 727,
   "metadata": {
    "collapsed": false
   },
   "outputs": [],
   "source": [
    "# Conversion en format date\n",
    "data['Datetime sell'] = data[['Date sell', 'Heure reservation']].apply(lambda x: ' '.join(x), axis=1)\n",
    "\n",
    "# Retour en 'object' avec format unlisible\n",
    "data['Datetime sell'] = data['Datetime sell'].apply(pd.to_datetime, format='%d %B %Y %H:%M:%S')"
   ]
  },
  {
   "cell_type": "markdown",
   "metadata": {},
   "source": [
    "Nous avons séparé la date de l'achat à la date complète contenant également l'heure."
   ]
  },
  {
   "cell_type": "code",
   "execution_count": 728,
   "metadata": {
    "collapsed": false
   },
   "outputs": [
    {
     "data": {
      "text/html": [
       "<div>\n",
       "<table border=\"1\" class=\"dataframe\">\n",
       "  <thead>\n",
       "    <tr style=\"text-align: right;\">\n",
       "      <th></th>\n",
       "      <th>Reservation</th>\n",
       "      <th>Date sell</th>\n",
       "      <th>Datetime sell</th>\n",
       "    </tr>\n",
       "  </thead>\n",
       "  <tbody>\n",
       "    <tr>\n",
       "      <th>0</th>\n",
       "      <td>843989</td>\n",
       "      <td>04 June 2015</td>\n",
       "      <td>2015-06-04 16:26:04</td>\n",
       "    </tr>\n",
       "    <tr>\n",
       "      <th>1</th>\n",
       "      <td>843990</td>\n",
       "      <td>04 June 2015</td>\n",
       "      <td>2015-06-04 16:26:04</td>\n",
       "    </tr>\n",
       "    <tr>\n",
       "      <th>2</th>\n",
       "      <td>843991</td>\n",
       "      <td>04 June 2015</td>\n",
       "      <td>2015-06-04 16:26:04</td>\n",
       "    </tr>\n",
       "    <tr>\n",
       "      <th>3</th>\n",
       "      <td>843992</td>\n",
       "      <td>04 June 2015</td>\n",
       "      <td>2015-06-04 16:26:04</td>\n",
       "    </tr>\n",
       "    <tr>\n",
       "      <th>4</th>\n",
       "      <td>843986</td>\n",
       "      <td>04 June 2015</td>\n",
       "      <td>2015-06-04 16:26:04</td>\n",
       "    </tr>\n",
       "  </tbody>\n",
       "</table>\n",
       "</div>"
      ],
      "text/plain": [
       "   Reservation     Date sell       Datetime sell\n",
       "0       843989  04 June 2015 2015-06-04 16:26:04\n",
       "1       843990  04 June 2015 2015-06-04 16:26:04\n",
       "2       843991  04 June 2015 2015-06-04 16:26:04\n",
       "3       843992  04 June 2015 2015-06-04 16:26:04\n",
       "4       843986  04 June 2015 2015-06-04 16:26:04"
      ]
     },
     "execution_count": 728,
     "metadata": {},
     "output_type": "execute_result"
    }
   ],
   "source": [
    "resa = pd.concat([data['Reservation'], data['Date sell'], data['Datetime sell']], axis=1)\n",
    "resa.head()"
   ]
  },
  {
   "cell_type": "code",
   "execution_count": 729,
   "metadata": {
    "collapsed": false
   },
   "outputs": [
    {
     "data": {
      "text/html": [
       "<div>\n",
       "<table border=\"1\" class=\"dataframe\">\n",
       "  <thead>\n",
       "    <tr>\n",
       "      <th></th>\n",
       "      <th>Reservation</th>\n",
       "    </tr>\n",
       "    <tr>\n",
       "      <th></th>\n",
       "      <th>Nb. billets vendus/jour</th>\n",
       "    </tr>\n",
       "    <tr>\n",
       "      <th>Date sell</th>\n",
       "      <th></th>\n",
       "    </tr>\n",
       "  </thead>\n",
       "  <tbody>\n",
       "    <tr>\n",
       "      <th>02 June 2015</th>\n",
       "      <td>91</td>\n",
       "    </tr>\n",
       "    <tr>\n",
       "      <th>04 June 2015</th>\n",
       "      <td>8</td>\n",
       "    </tr>\n",
       "  </tbody>\n",
       "</table>\n",
       "</div>"
      ],
      "text/plain": [
       "                         Reservation\n",
       "             Nb. billets vendus/jour\n",
       "Date sell                           \n",
       "02 June 2015                      91\n",
       "04 June 2015                       8"
      ]
     },
     "execution_count": 729,
     "metadata": {},
     "output_type": "execute_result"
    }
   ],
   "source": [
    "# Paramétrage des élements à aggréger\n",
    "date_agg = {\n",
    "    'Reservation': {\n",
    "        'Nb. billets vendus/jour': 'count'\n",
    "    }\n",
    "}\n",
    "\n",
    "# Tri et aggrégation\n",
    "resa_group = resa.groupby('Date sell').agg(date_agg)\n",
    "resa_group"
   ]
  },
  {
   "cell_type": "markdown",
   "metadata": {},
   "source": [
    "Nous observons le fait que cet échantillon contient des données sur deux jours. "
   ]
  },
  {
   "cell_type": "code",
   "execution_count": 730,
   "metadata": {
    "collapsed": false
   },
   "outputs": [
    {
     "data": {
      "text/plain": [
       "(array([0, 1]), <a list of 2 Text xticklabel objects>)"
      ]
     },
     "execution_count": 730,
     "metadata": {},
     "output_type": "execute_result"
    },
    {
     "data": {
      "text/plain": [
       "<matplotlib.figure.Figure at 0x1209b1f98>"
      ]
     },
     "metadata": {},
     "output_type": "display_data"
    },
    {
     "data": {
      "image/png": "[encoded data removed]",
      "text/plain": [
       "<matplotlib.figure.Figure at 0x1209b1e48>"
      ]
     },
     "metadata": {},
     "output_type": "display_data"
    }
   ],
   "source": [
    "plt.figure()\n",
    "resa_plot = resa_group.plot(kind='bar')\n",
    "\n",
    "# Légende retirée\n",
    "resa_plot.get_legend().remove()\n",
    "\n",
    "# Personnalisation des labels\n",
    "plt.xlabel(\"Date de réservation\")\n",
    "plt.ylabel(\"Nb. de clients\")\n",
    "plt.title(\"Nombre de billets vendus par jour\")\n",
    "plt.xticks(rotation=\"horizontal\")"
   ]
  },
  {
   "cell_type": "markdown",
   "metadata": {},
   "source": [
    "La date contenant l'heure est découpée de manière à pouvoir bénéficier de toutes les informations que peut nous donner une date."
   ]
  },
  {
   "cell_type": "code",
   "execution_count": 731,
   "metadata": {
    "collapsed": false
   },
   "outputs": [],
   "source": [
    "datetime = pd.DatetimeIndex(resa['Datetime sell'])"
   ]
  },
  {
   "cell_type": "markdown",
   "metadata": {},
   "source": [
    "Nous reproduisons le même exercice que précédemment en y ajoutant l'information sur le temps en heure pour le fun."
   ]
  },
  {
   "cell_type": "code",
   "execution_count": 732,
   "metadata": {
    "collapsed": false
   },
   "outputs": [
    {
     "data": {
      "text/html": [
       "<div>\n",
       "<table border=\"1\" class=\"dataframe\">\n",
       "  <thead>\n",
       "    <tr>\n",
       "      <th></th>\n",
       "      <th></th>\n",
       "      <th>Reservation</th>\n",
       "    </tr>\n",
       "    <tr>\n",
       "      <th></th>\n",
       "      <th></th>\n",
       "      <th>Nb. billets vendus/heure</th>\n",
       "    </tr>\n",
       "  </thead>\n",
       "  <tbody>\n",
       "    <tr>\n",
       "      <th rowspan=\"2\" valign=\"top\">2015-06-02</th>\n",
       "      <th>10</th>\n",
       "      <td>30</td>\n",
       "    </tr>\n",
       "    <tr>\n",
       "      <th>12</th>\n",
       "      <td>61</td>\n",
       "    </tr>\n",
       "    <tr>\n",
       "      <th>2015-06-04</th>\n",
       "      <th>16</th>\n",
       "      <td>8</td>\n",
       "    </tr>\n",
       "  </tbody>\n",
       "</table>\n",
       "</div>"
      ],
      "text/plain": [
       "                           Reservation\n",
       "              Nb. billets vendus/heure\n",
       "2015-06-02 10                       30\n",
       "           12                       61\n",
       "2015-06-04 16                        8"
      ]
     },
     "execution_count": 732,
     "metadata": {},
     "output_type": "execute_result"
    }
   ],
   "source": [
    "# Paramétrage des élements à aggréger\n",
    "hour_agg = {\n",
    "    'Reservation': {\n",
    "        'Nb. billets vendus/heure': 'count'\n",
    "    }\n",
    "}\n",
    "\n",
    "# Tri et aggrégation\n",
    "resa_hour_group = resa.groupby([datetime.date, datetime.hour]).agg(hour_agg)\n",
    "resa_hour_group.head(100)"
   ]
  },
  {
   "cell_type": "markdown",
   "metadata": {},
   "source": [
    "Les données ont été triées de sorte à pouvoir dire à quelle heure les billets ont été achetés. "
   ]
  },
  {
   "cell_type": "code",
   "execution_count": 733,
   "metadata": {
    "collapsed": false
   },
   "outputs": [
    {
     "data": {
      "text/plain": [
       "(array([0, 1, 2]), <a list of 3 Text xticklabel objects>)"
      ]
     },
     "execution_count": 733,
     "metadata": {},
     "output_type": "execute_result"
    },
    {
     "data": {
      "text/plain": [
       "<matplotlib.figure.Figure at 0x12061dc50>"
      ]
     },
     "metadata": {},
     "output_type": "display_data"
    },
    {
     "data": {
      "image/png": "[encoded data removed]",
      "text/plain": [
       "<matplotlib.figure.Figure at 0x1209b18d0>"
      ]
     },
     "metadata": {},
     "output_type": "display_data"
    }
   ],
   "source": [
    "plt.figure()\n",
    "hour_plot = resa_hour_group.plot(kind='bar')\n",
    "\n",
    "# Légende retirée\n",
    "hour_plot.get_legend().remove()\n",
    "\n",
    "# Personnalisation des labels\n",
    "plt.xlabel(\"Date et heure de réservation\")\n",
    "plt.ylabel(\"Nb. de clients\")\n",
    "plt.title(\"Nombre de billets vendus par jour et heure\")\n",
    "plt.xticks(rotation=\"horizontal\")"
   ]
  },
  {
   "cell_type": "markdown",
   "metadata": {},
   "source": [
    "## Algorithme"
   ]
  },
  {
   "cell_type": "markdown",
   "metadata": {},
   "source": [
    "### Mise en situation"
   ]
  },
  {
   "cell_type": "code",
   "execution_count": 734,
   "metadata": {
    "collapsed": false
   },
   "outputs": [
    {
     "data": {
      "text/html": [
       "<div>\n",
       "<table border=\"1\" class=\"dataframe\">\n",
       "  <thead>\n",
       "    <tr style=\"text-align: right;\">\n",
       "      <th></th>\n",
       "      <th>Numero billet</th>\n",
       "      <th>Commande</th>\n",
       "      <th>Reservation</th>\n",
       "      <th>Date reservation</th>\n",
       "      <th>Heure reservation</th>\n",
       "      <th>Cle spectacle</th>\n",
       "      <th>Spectacle</th>\n",
       "      <th>Cle representation</th>\n",
       "      <th>Representation</th>\n",
       "      <th>Date representation</th>\n",
       "      <th>Heure representation</th>\n",
       "      <th>Date fin representation</th>\n",
       "      <th>Heure fin representation</th>\n",
       "      <th>Prix</th>\n",
       "      <th>Date acces</th>\n",
       "      <th>Heure acces</th>\n",
       "      <th>Tarif</th>\n",
       "      <th>Type de client</th>\n",
       "      <th>Type de produit</th>\n",
       "      <th>Serie</th>\n",
       "      <th>Etage</th>\n",
       "      <th>Filiere de vente</th>\n",
       "      <th>Nom</th>\n",
       "      <th>Prenom</th>\n",
       "      <th>Email</th>\n",
       "      <th>Adresse</th>\n",
       "      <th>Code postal</th>\n",
       "      <th>Pays</th>\n",
       "      <th>Age</th>\n",
       "      <th>Sexe</th>\n",
       "      <th>Date sell</th>\n",
       "      <th>Datetime sell</th>\n",
       "    </tr>\n",
       "  </thead>\n",
       "  <tbody>\n",
       "    <tr>\n",
       "      <th>0</th>\n",
       "      <td>1400222</td>\n",
       "      <td>NaN</td>\n",
       "      <td>843989</td>\n",
       "      <td>04/06/15 00:00</td>\n",
       "      <td>16:26:04</td>\n",
       "      <td>476</td>\n",
       "      <td>FEMME NON-REEDUCABLE</td>\n",
       "      <td>3191</td>\n",
       "      <td>FEMME NON-REEDUCABLE</td>\n",
       "      <td>10/10/14</td>\n",
       "      <td>20:00:00</td>\n",
       "      <td>10/10/14</td>\n",
       "      <td>22:00:00</td>\n",
       "      <td>27.0</td>\n",
       "      <td>10/10/14</td>\n",
       "      <td>19:49:11</td>\n",
       "      <td>Abonnement mouettes</td>\n",
       "      <td>Client</td>\n",
       "      <td>Abonnement</td>\n",
       "      <td>1er Serie</td>\n",
       "      <td>CORBEILLE</td>\n",
       "      <td>GUICHET</td>\n",
       "      <td>KEBIR</td>\n",
       "      <td>Fran_ois-Jean</td>\n",
       "      <td>Fran_ois-Jean.KEBIR@mail.fr</td>\n",
       "      <td>7 rue des Acinonyx jubatus</td>\n",
       "      <td>69110</td>\n",
       "      <td>France</td>\n",
       "      <td>57.0</td>\n",
       "      <td>F</td>\n",
       "      <td>04 June 2015</td>\n",
       "      <td>2015-06-04 16:26:04</td>\n",
       "    </tr>\n",
       "    <tr>\n",
       "      <th>1</th>\n",
       "      <td>1400223</td>\n",
       "      <td>NaN</td>\n",
       "      <td>843990</td>\n",
       "      <td>04/06/15 00:00</td>\n",
       "      <td>16:26:04</td>\n",
       "      <td>477</td>\n",
       "      <td>G©n©rale Publique Fever</td>\n",
       "      <td>3204</td>\n",
       "      <td>G©n©rale Publique Fever</td>\n",
       "      <td>05/11/14</td>\n",
       "      <td>20:00:00</td>\n",
       "      <td>05/11/14</td>\n",
       "      <td>21:30:00</td>\n",
       "      <td>27.0</td>\n",
       "      <td>05/11/14</td>\n",
       "      <td>19:52:17</td>\n",
       "      <td>Abonnement mouettes</td>\n",
       "      <td>Client</td>\n",
       "      <td>Abonnement</td>\n",
       "      <td>1er Serie</td>\n",
       "      <td>CORBEILLE</td>\n",
       "      <td>GUICHET</td>\n",
       "      <td>KEBIR</td>\n",
       "      <td>Fran_ois-Jean</td>\n",
       "      <td>Fran_ois-Jean.KEBIR@mail.fr</td>\n",
       "      <td>7 rue des Acinonyx jubatus</td>\n",
       "      <td>69110</td>\n",
       "      <td>France</td>\n",
       "      <td>57.0</td>\n",
       "      <td>F</td>\n",
       "      <td>04 June 2015</td>\n",
       "      <td>2015-06-04 16:26:04</td>\n",
       "    </tr>\n",
       "    <tr>\n",
       "      <th>2</th>\n",
       "      <td>1400225</td>\n",
       "      <td>NaN</td>\n",
       "      <td>843991</td>\n",
       "      <td>04/06/15 00:00</td>\n",
       "      <td>16:26:04</td>\n",
       "      <td>479</td>\n",
       "      <td>L'HISTOIRE TERRIBLE... 2e EPOQUE</td>\n",
       "      <td>3218</td>\n",
       "      <td>L'HISTOIRE TERRIBLE... 2e EPOQUE</td>\n",
       "      <td>28/11/14</td>\n",
       "      <td>20:00:00</td>\n",
       "      <td>28/11/14</td>\n",
       "      <td>23:30:00</td>\n",
       "      <td>27.0</td>\n",
       "      <td>28/11/14</td>\n",
       "      <td>19:52:07</td>\n",
       "      <td>Abonnement mouettes</td>\n",
       "      <td>Client</td>\n",
       "      <td>Abonnement</td>\n",
       "      <td>1er Serie</td>\n",
       "      <td>CORBEILLE</td>\n",
       "      <td>GUICHET</td>\n",
       "      <td>KEBIR</td>\n",
       "      <td>Fran_ois-Jean</td>\n",
       "      <td>Fran_ois-Jean.KEBIR@mail.fr</td>\n",
       "      <td>7 rue des Acinonyx jubatus</td>\n",
       "      <td>69110</td>\n",
       "      <td>France</td>\n",
       "      <td>57.0</td>\n",
       "      <td>F</td>\n",
       "      <td>04 June 2015</td>\n",
       "      <td>2015-06-04 16:26:04</td>\n",
       "    </tr>\n",
       "    <tr>\n",
       "      <th>3</th>\n",
       "      <td>1400228</td>\n",
       "      <td>NaN</td>\n",
       "      <td>843992</td>\n",
       "      <td>04/06/15 00:00</td>\n",
       "      <td>16:26:04</td>\n",
       "      <td>482</td>\n",
       "      <td>LE ROI LEAR</td>\n",
       "      <td>3257</td>\n",
       "      <td>LE ROI LEAR</td>\n",
       "      <td>14/01/15</td>\n",
       "      <td>20:00:00</td>\n",
       "      <td>14/01/15</td>\n",
       "      <td>21:40:00</td>\n",
       "      <td>27.0</td>\n",
       "      <td>14/01/15</td>\n",
       "      <td>19:57:08</td>\n",
       "      <td>Abonnement mouettes</td>\n",
       "      <td>Client</td>\n",
       "      <td>Abonnement</td>\n",
       "      <td>1er Serie</td>\n",
       "      <td>ORCHESTRE</td>\n",
       "      <td>GUICHET</td>\n",
       "      <td>KEBIR</td>\n",
       "      <td>Fran_ois-Jean</td>\n",
       "      <td>Fran_ois-Jean.KEBIR@mail.fr</td>\n",
       "      <td>7 rue des Acinonyx jubatus</td>\n",
       "      <td>69110</td>\n",
       "      <td>France</td>\n",
       "      <td>57.0</td>\n",
       "      <td>F</td>\n",
       "      <td>04 June 2015</td>\n",
       "      <td>2015-06-04 16:26:04</td>\n",
       "    </tr>\n",
       "    <tr>\n",
       "      <th>4</th>\n",
       "      <td>1400229</td>\n",
       "      <td>NaN</td>\n",
       "      <td>843986</td>\n",
       "      <td>04/06/15 00:00</td>\n",
       "      <td>16:26:04</td>\n",
       "      <td>483</td>\n",
       "      <td>JE SUIS</td>\n",
       "      <td>3268</td>\n",
       "      <td>JE SUIS</td>\n",
       "      <td>16/01/15</td>\n",
       "      <td>20:00:00</td>\n",
       "      <td>16/01/15</td>\n",
       "      <td>21:30:00</td>\n",
       "      <td>15.0</td>\n",
       "      <td>NaN</td>\n",
       "      <td>NaN</td>\n",
       "      <td>Abonnement mouettes</td>\n",
       "      <td>Client</td>\n",
       "      <td>Abonnement</td>\n",
       "      <td>Serie unique</td>\n",
       "      <td>NaN</td>\n",
       "      <td>GUICHET</td>\n",
       "      <td>KEBIR</td>\n",
       "      <td>Fran_ois-Jean</td>\n",
       "      <td>Fran_ois-Jean.KEBIR@mail.fr</td>\n",
       "      <td>7 rue des Acinonyx jubatus</td>\n",
       "      <td>69110</td>\n",
       "      <td>France</td>\n",
       "      <td>57.0</td>\n",
       "      <td>F</td>\n",
       "      <td>04 June 2015</td>\n",
       "      <td>2015-06-04 16:26:04</td>\n",
       "    </tr>\n",
       "  </tbody>\n",
       "</table>\n",
       "</div>"
      ],
      "text/plain": [
       "   Numero billet  Commande  Reservation Date reservation Heure reservation  \\\n",
       "0        1400222       NaN       843989   04/06/15 00:00          16:26:04   \n",
       "1        1400223       NaN       843990   04/06/15 00:00          16:26:04   \n",
       "2        1400225       NaN       843991   04/06/15 00:00          16:26:04   \n",
       "3        1400228       NaN       843992   04/06/15 00:00          16:26:04   \n",
       "4        1400229       NaN       843986   04/06/15 00:00          16:26:04   \n",
       "\n",
       "   Cle spectacle                         Spectacle  Cle representation  \\\n",
       "0            476              FEMME NON-REEDUCABLE                3191   \n",
       "1            477         G©n©rale Publique Fever                3204   \n",
       "2            479  L'HISTOIRE TERRIBLE... 2e EPOQUE                3218   \n",
       "3            482                       LE ROI LEAR                3257   \n",
       "4            483                           JE SUIS                3268   \n",
       "\n",
       "                     Representation Date representation Heure representation  \\\n",
       "0              FEMME NON-REEDUCABLE            10/10/14             20:00:00   \n",
       "1         G©n©rale Publique Fever            05/11/14             20:00:00   \n",
       "2  L'HISTOIRE TERRIBLE... 2e EPOQUE            28/11/14             20:00:00   \n",
       "3                       LE ROI LEAR            14/01/15             20:00:00   \n",
       "4                           JE SUIS            16/01/15             20:00:00   \n",
       "\n",
       "  Date fin representation Heure fin representation  Prix Date acces  \\\n",
       "0                10/10/14                 22:00:00  27.0   10/10/14   \n",
       "1                05/11/14                 21:30:00  27.0   05/11/14   \n",
       "2                28/11/14                 23:30:00  27.0   28/11/14   \n",
       "3                14/01/15                 21:40:00  27.0   14/01/15   \n",
       "4                16/01/15                 21:30:00  15.0        NaN   \n",
       "\n",
       "  Heure acces                Tarif Type de client Type de produit  \\\n",
       "0    19:49:11  Abonnement mouettes         Client      Abonnement   \n",
       "1    19:52:17  Abonnement mouettes         Client      Abonnement   \n",
       "2    19:52:07  Abonnement mouettes         Client      Abonnement   \n",
       "3    19:57:08  Abonnement mouettes         Client      Abonnement   \n",
       "4         NaN  Abonnement mouettes         Client      Abonnement   \n",
       "\n",
       "          Serie      Etage Filiere de vente    Nom          Prenom  \\\n",
       "0     1er Serie  CORBEILLE          GUICHET  KEBIR  Fran_ois-Jean   \n",
       "1     1er Serie  CORBEILLE          GUICHET  KEBIR  Fran_ois-Jean   \n",
       "2     1er Serie  CORBEILLE          GUICHET  KEBIR  Fran_ois-Jean   \n",
       "3     1er Serie  ORCHESTRE          GUICHET  KEBIR  Fran_ois-Jean   \n",
       "4  Serie unique        NaN          GUICHET  KEBIR  Fran_ois-Jean   \n",
       "\n",
       "                          Email                     Adresse  Code postal  \\\n",
       "0  Fran_ois-Jean.KEBIR@mail.fr  7 rue des Acinonyx jubatus        69110   \n",
       "1  Fran_ois-Jean.KEBIR@mail.fr  7 rue des Acinonyx jubatus        69110   \n",
       "2  Fran_ois-Jean.KEBIR@mail.fr  7 rue des Acinonyx jubatus        69110   \n",
       "3  Fran_ois-Jean.KEBIR@mail.fr  7 rue des Acinonyx jubatus        69110   \n",
       "4  Fran_ois-Jean.KEBIR@mail.fr  7 rue des Acinonyx jubatus        69110   \n",
       "\n",
       "     Pays   Age Sexe     Date sell       Datetime sell  \n",
       "0  France  57.0    F  04 June 2015 2015-06-04 16:26:04  \n",
       "1  France  57.0    F  04 June 2015 2015-06-04 16:26:04  \n",
       "2  France  57.0    F  04 June 2015 2015-06-04 16:26:04  \n",
       "3  France  57.0    F  04 June 2015 2015-06-04 16:26:04  \n",
       "4  France  57.0    F  04 June 2015 2015-06-04 16:26:04  "
      ]
     },
     "execution_count": 734,
     "metadata": {},
     "output_type": "execute_result"
    }
   ],
   "source": [
    "data.head()"
   ]
  },
  {
   "cell_type": "markdown",
   "metadata": {},
   "source": [
    "Nous allons sélectionner quelques variables pour entraine un modèle d'algorithme de Mahcine learning. Ceci reste dans le cadre de l'exercice et n'utilise pas de méthode mathématique de sélection de variables.\n",
    "\n",
    "Pour le bonus, nous voulons étudier de plus près la variable `Etage` qui contient cinq valeurs manquantes. Nous allons tenter de les déterminer."
   ]
  },
  {
   "cell_type": "code",
   "execution_count": 735,
   "metadata": {
    "collapsed": false
   },
   "outputs": [
    {
     "data": {
      "text/plain": [
       "ORCHESTRE    63\n",
       "CORBEILLE    22\n",
       "BALCON        6\n",
       "GRADIN        2\n",
       "PARTERRE      1\n",
       "Name: Etage, dtype: int64"
      ]
     },
     "execution_count": 735,
     "metadata": {},
     "output_type": "execute_result"
    }
   ],
   "source": [
    "data['Etage'].value_counts()"
   ]
  },
  {
   "cell_type": "markdown",
   "metadata": {},
   "source": [
    "Je sélectionne quatorze variables en favorisant les identifiants (clés) de spectacles, réservations, etc."
   ]
  },
  {
   "cell_type": "code",
   "execution_count": 736,
   "metadata": {
    "collapsed": false
   },
   "outputs": [],
   "source": [
    "sub_data = pd.concat([data['Numero billet'], \n",
    "                      data['Reservation'],\n",
    "                      data['Cle spectacle'],\n",
    "                      data['Cle representation'],\n",
    "                      data['Prix'],\n",
    "                      data['Tarif'],\n",
    "                      data['Type de produit'],\n",
    "                      data['Serie'],\n",
    "                      data['Filiere de vente'],\n",
    "                      data['Nom'],\n",
    "                      data['Code postal'],\n",
    "                      data['Sexe'],\n",
    "                      data['Datetime sell'],\n",
    "                      data['Etage']],\n",
    "                     axis=1)\n",
    "\n",
    "# Séparation du timestamp en heure et en jour de l'année\n",
    "sub_data['hour'] = sub_data['Datetime sell'].dt.hour\n",
    "sub_data['day'] = sub_data['Datetime sell'].dt.dayofyear\n",
    "sub_data = sub_data.drop('Datetime sell', axis=1)"
   ]
  },
  {
   "cell_type": "markdown",
   "metadata": {},
   "source": [
    "### Pré-processing"
   ]
  },
  {
   "cell_type": "markdown",
   "metadata": {},
   "source": [
    "J'importe les éléments nécessaires au pré-processing de la librairie `scikit-learn`."
   ]
  },
  {
   "cell_type": "code",
   "execution_count": 737,
   "metadata": {
    "collapsed": true
   },
   "outputs": [],
   "source": [
    "from sklearn import preprocessing\n",
    "from sklearn.preprocessing import LabelEncoder"
   ]
  },
  {
   "cell_type": "markdown",
   "metadata": {},
   "source": [
    "Les variables ont besoin d'être retravaillées afin d'avoir le format correct pour entraîner un modèle."
   ]
  },
  {
   "cell_type": "code",
   "execution_count": 738,
   "metadata": {
    "collapsed": false
   },
   "outputs": [
    {
     "data": {
      "text/plain": [
       "LabelEncoder()"
      ]
     },
     "execution_count": 738,
     "metadata": {},
     "output_type": "execute_result"
    }
   ],
   "source": [
    "le_tarif = preprocessing.LabelEncoder()\n",
    "le_tarif.fit(sub_data['Tarif'])\n",
    "\n",
    "le_product_type = preprocessing.LabelEncoder()\n",
    "le_product_type.fit(sub_data['Type de produit'])\n",
    "\n",
    "le_serie = preprocessing.LabelEncoder()\n",
    "le_serie.fit(sub_data['Serie'])\n",
    "\n",
    "le_branch = preprocessing.LabelEncoder()\n",
    "le_branch.fit(sub_data['Filiere de vente'])\n",
    "\n",
    "le_name = preprocessing.LabelEncoder()\n",
    "le_name.fit(sub_data['Nom'])"
   ]
  },
  {
   "cell_type": "markdown",
   "metadata": {},
   "source": [
    "D'autre part, j'observe les niveaux de facteurs de la variable `Sexe`..."
   ]
  },
  {
   "cell_type": "code",
   "execution_count": 739,
   "metadata": {
    "collapsed": false
   },
   "outputs": [
    {
     "data": {
      "text/plain": [
       "array(['F', 'H', nan], dtype=object)"
      ]
     },
     "execution_count": 739,
     "metadata": {},
     "output_type": "execute_result"
    }
   ],
   "source": [
    "sub_data['Sexe'].unique()"
   ]
  },
  {
   "cell_type": "markdown",
   "metadata": {},
   "source": [
    "... et de la variable `Etage`."
   ]
  },
  {
   "cell_type": "code",
   "execution_count": 740,
   "metadata": {
    "collapsed": false
   },
   "outputs": [
    {
     "data": {
      "text/plain": [
       "array(['CORBEILLE', 'ORCHESTRE', nan, 'PARTERRE', 'BALCON', 'GRADIN'], dtype=object)"
      ]
     },
     "execution_count": 740,
     "metadata": {},
     "output_type": "execute_result"
    }
   ],
   "source": [
    "sub_data['Etage'].unique()"
   ]
  },
  {
   "cell_type": "markdown",
   "metadata": {},
   "source": [
    "Notons que les valeurs manquantes dans `Etage` sont converties en -1."
   ]
  },
  {
   "cell_type": "code",
   "execution_count": 741,
   "metadata": {
    "collapsed": false
   },
   "outputs": [
    {
     "data": {
      "text/html": [
       "<div>\n",
       "<table border=\"1\" class=\"dataframe\">\n",
       "  <thead>\n",
       "    <tr style=\"text-align: right;\">\n",
       "      <th></th>\n",
       "      <th>Numero billet</th>\n",
       "      <th>Reservation</th>\n",
       "      <th>Cle spectacle</th>\n",
       "      <th>Cle representation</th>\n",
       "      <th>Prix</th>\n",
       "      <th>Tarif</th>\n",
       "      <th>Type de produit</th>\n",
       "      <th>Serie</th>\n",
       "      <th>Filiere de vente</th>\n",
       "      <th>Nom</th>\n",
       "      <th>Code postal</th>\n",
       "      <th>Sexe</th>\n",
       "      <th>Etage</th>\n",
       "      <th>hour</th>\n",
       "      <th>day</th>\n",
       "    </tr>\n",
       "  </thead>\n",
       "  <tbody>\n",
       "    <tr>\n",
       "      <th>0</th>\n",
       "      <td>1400222</td>\n",
       "      <td>843989</td>\n",
       "      <td>476</td>\n",
       "      <td>3191</td>\n",
       "      <td>27.0</td>\n",
       "      <td>1</td>\n",
       "      <td>0</td>\n",
       "      <td>0</td>\n",
       "      <td>1</td>\n",
       "      <td>12</td>\n",
       "      <td>69110</td>\n",
       "      <td>0</td>\n",
       "      <td>0</td>\n",
       "      <td>16</td>\n",
       "      <td>155</td>\n",
       "    </tr>\n",
       "    <tr>\n",
       "      <th>1</th>\n",
       "      <td>1400223</td>\n",
       "      <td>843990</td>\n",
       "      <td>477</td>\n",
       "      <td>3204</td>\n",
       "      <td>27.0</td>\n",
       "      <td>1</td>\n",
       "      <td>0</td>\n",
       "      <td>0</td>\n",
       "      <td>1</td>\n",
       "      <td>12</td>\n",
       "      <td>69110</td>\n",
       "      <td>0</td>\n",
       "      <td>0</td>\n",
       "      <td>16</td>\n",
       "      <td>155</td>\n",
       "    </tr>\n",
       "    <tr>\n",
       "      <th>2</th>\n",
       "      <td>1400225</td>\n",
       "      <td>843991</td>\n",
       "      <td>479</td>\n",
       "      <td>3218</td>\n",
       "      <td>27.0</td>\n",
       "      <td>1</td>\n",
       "      <td>0</td>\n",
       "      <td>0</td>\n",
       "      <td>1</td>\n",
       "      <td>12</td>\n",
       "      <td>69110</td>\n",
       "      <td>0</td>\n",
       "      <td>0</td>\n",
       "      <td>16</td>\n",
       "      <td>155</td>\n",
       "    </tr>\n",
       "    <tr>\n",
       "      <th>3</th>\n",
       "      <td>1400228</td>\n",
       "      <td>843992</td>\n",
       "      <td>482</td>\n",
       "      <td>3257</td>\n",
       "      <td>27.0</td>\n",
       "      <td>1</td>\n",
       "      <td>0</td>\n",
       "      <td>0</td>\n",
       "      <td>1</td>\n",
       "      <td>12</td>\n",
       "      <td>69110</td>\n",
       "      <td>0</td>\n",
       "      <td>1</td>\n",
       "      <td>16</td>\n",
       "      <td>155</td>\n",
       "    </tr>\n",
       "    <tr>\n",
       "      <th>4</th>\n",
       "      <td>1400229</td>\n",
       "      <td>843986</td>\n",
       "      <td>483</td>\n",
       "      <td>3268</td>\n",
       "      <td>15.0</td>\n",
       "      <td>1</td>\n",
       "      <td>0</td>\n",
       "      <td>3</td>\n",
       "      <td>1</td>\n",
       "      <td>12</td>\n",
       "      <td>69110</td>\n",
       "      <td>0</td>\n",
       "      <td>-1</td>\n",
       "      <td>16</td>\n",
       "      <td>155</td>\n",
       "    </tr>\n",
       "  </tbody>\n",
       "</table>\n",
       "</div>"
      ],
      "text/plain": [
       "   Numero billet  Reservation  Cle spectacle  Cle representation  Prix  Tarif  \\\n",
       "0        1400222       843989            476                3191  27.0      1   \n",
       "1        1400223       843990            477                3204  27.0      1   \n",
       "2        1400225       843991            479                3218  27.0      1   \n",
       "3        1400228       843992            482                3257  27.0      1   \n",
       "4        1400229       843986            483                3268  15.0      1   \n",
       "\n",
       "   Type de produit  Serie  Filiere de vente  Nom  Code postal  Sexe  Etage  \\\n",
       "0                0      0                 1   12        69110     0      0   \n",
       "1                0      0                 1   12        69110     0      0   \n",
       "2                0      0                 1   12        69110     0      0   \n",
       "3                0      0                 1   12        69110     0      1   \n",
       "4                0      3                 1   12        69110     0     -1   \n",
       "\n",
       "   hour  day  \n",
       "0    16  155  \n",
       "1    16  155  \n",
       "2    16  155  \n",
       "3    16  155  \n",
       "4    16  155  "
      ]
     },
     "execution_count": 741,
     "metadata": {},
     "output_type": "execute_result"
    }
   ],
   "source": [
    "sub_data['Tarif'] = le_tarif.transform(sub_data['Tarif'])\n",
    "sub_data['Type de produit'] = le_product_type.transform(sub_data['Type de produit'])\n",
    "sub_data['Serie'] = le_serie.transform(sub_data['Serie'])\n",
    "sub_data['Filiere de vente'] = le_branch.transform(sub_data['Filiere de vente'])\n",
    "sub_data['Nom'] = le_name.transform(sub_data['Nom'])\n",
    "sub_data['Sexe'] = sub_data['Sexe'].factorize()[0]\n",
    "sub_data['Etage'] = sub_data['Etage'].factorize()[0]\n",
    "\n",
    "sub_data.head()"
   ]
  },
  {
   "cell_type": "markdown",
   "metadata": {},
   "source": [
    "Les valeurs manquantes sont regroupées dans notre échantillon de test final."
   ]
  },
  {
   "cell_type": "code",
   "execution_count": 742,
   "metadata": {
    "collapsed": false
   },
   "outputs": [
    {
     "data": {
      "text/html": [
       "<div>\n",
       "<table border=\"1\" class=\"dataframe\">\n",
       "  <thead>\n",
       "    <tr style=\"text-align: right;\">\n",
       "      <th></th>\n",
       "      <th>Numero billet</th>\n",
       "      <th>Reservation</th>\n",
       "      <th>Cle spectacle</th>\n",
       "      <th>Cle representation</th>\n",
       "      <th>Prix</th>\n",
       "      <th>Tarif</th>\n",
       "      <th>Type de produit</th>\n",
       "      <th>Serie</th>\n",
       "      <th>Filiere de vente</th>\n",
       "      <th>Nom</th>\n",
       "      <th>Code postal</th>\n",
       "      <th>Sexe</th>\n",
       "      <th>Etage</th>\n",
       "      <th>hour</th>\n",
       "      <th>day</th>\n",
       "    </tr>\n",
       "  </thead>\n",
       "  <tbody>\n",
       "    <tr>\n",
       "      <th>4</th>\n",
       "      <td>1400229</td>\n",
       "      <td>843986</td>\n",
       "      <td>483</td>\n",
       "      <td>3268</td>\n",
       "      <td>15.0</td>\n",
       "      <td>1</td>\n",
       "      <td>0</td>\n",
       "      <td>3</td>\n",
       "      <td>1</td>\n",
       "      <td>12</td>\n",
       "      <td>69110</td>\n",
       "      <td>0</td>\n",
       "      <td>-1</td>\n",
       "      <td>16</td>\n",
       "      <td>155</td>\n",
       "    </tr>\n",
       "    <tr>\n",
       "      <th>50</th>\n",
       "      <td>1491917</td>\n",
       "      <td>838748</td>\n",
       "      <td>552</td>\n",
       "      <td>3694</td>\n",
       "      <td>15.0</td>\n",
       "      <td>1</td>\n",
       "      <td>0</td>\n",
       "      <td>3</td>\n",
       "      <td>1</td>\n",
       "      <td>1</td>\n",
       "      <td>69004</td>\n",
       "      <td>1</td>\n",
       "      <td>-1</td>\n",
       "      <td>12</td>\n",
       "      <td>153</td>\n",
       "    </tr>\n",
       "    <tr>\n",
       "      <th>51</th>\n",
       "      <td>1491918</td>\n",
       "      <td>838748</td>\n",
       "      <td>552</td>\n",
       "      <td>3694</td>\n",
       "      <td>15.0</td>\n",
       "      <td>1</td>\n",
       "      <td>0</td>\n",
       "      <td>3</td>\n",
       "      <td>1</td>\n",
       "      <td>1</td>\n",
       "      <td>69004</td>\n",
       "      <td>1</td>\n",
       "      <td>-1</td>\n",
       "      <td>12</td>\n",
       "      <td>153</td>\n",
       "    </tr>\n",
       "    <tr>\n",
       "      <th>62</th>\n",
       "      <td>1491929</td>\n",
       "      <td>838779</td>\n",
       "      <td>552</td>\n",
       "      <td>3694</td>\n",
       "      <td>15.0</td>\n",
       "      <td>1</td>\n",
       "      <td>0</td>\n",
       "      <td>3</td>\n",
       "      <td>1</td>\n",
       "      <td>10</td>\n",
       "      <td>69004</td>\n",
       "      <td>1</td>\n",
       "      <td>-1</td>\n",
       "      <td>12</td>\n",
       "      <td>153</td>\n",
       "    </tr>\n",
       "    <tr>\n",
       "      <th>70</th>\n",
       "      <td>1491937</td>\n",
       "      <td>838788</td>\n",
       "      <td>552</td>\n",
       "      <td>3694</td>\n",
       "      <td>15.0</td>\n",
       "      <td>1</td>\n",
       "      <td>0</td>\n",
       "      <td>3</td>\n",
       "      <td>1</td>\n",
       "      <td>10</td>\n",
       "      <td>69004</td>\n",
       "      <td>1</td>\n",
       "      <td>-1</td>\n",
       "      <td>12</td>\n",
       "      <td>153</td>\n",
       "    </tr>\n",
       "  </tbody>\n",
       "</table>\n",
       "</div>"
      ],
      "text/plain": [
       "    Numero billet  Reservation  Cle spectacle  Cle representation  Prix  \\\n",
       "4         1400229       843986            483                3268  15.0   \n",
       "50        1491917       838748            552                3694  15.0   \n",
       "51        1491918       838748            552                3694  15.0   \n",
       "62        1491929       838779            552                3694  15.0   \n",
       "70        1491937       838788            552                3694  15.0   \n",
       "\n",
       "    Tarif  Type de produit  Serie  Filiere de vente  Nom  Code postal  Sexe  \\\n",
       "4       1                0      3                 1   12        69110     0   \n",
       "50      1                0      3                 1    1        69004     1   \n",
       "51      1                0      3                 1    1        69004     1   \n",
       "62      1                0      3                 1   10        69004     1   \n",
       "70      1                0      3                 1   10        69004     1   \n",
       "\n",
       "    Etage  hour  day  \n",
       "4      -1    16  155  \n",
       "50     -1    12  153  \n",
       "51     -1    12  153  \n",
       "62     -1    12  153  \n",
       "70     -1    12  153  "
      ]
     },
     "execution_count": 742,
     "metadata": {},
     "output_type": "execute_result"
    }
   ],
   "source": [
    "test = sub_data[sub_data['Etage'] == -1]\n",
    "test_features = test.drop('Etage', axis=1)\n",
    "test"
   ]
  },
  {
   "cell_type": "markdown",
   "metadata": {},
   "source": [
    "Les autres observations constituent notre échantillon d'entraînement."
   ]
  },
  {
   "cell_type": "code",
   "execution_count": 743,
   "metadata": {
    "collapsed": false
   },
   "outputs": [],
   "source": [
    "train = sub_data[sub_data['Etage'] != -1]\n",
    "train_outcome = train['Etage']\n",
    "train_features = train.drop('Etage', axis=1)"
   ]
  },
  {
   "cell_type": "markdown",
   "metadata": {},
   "source": [
    "### Cross-validation"
   ]
  },
  {
   "cell_type": "code",
   "execution_count": 744,
   "metadata": {
    "collapsed": false
   },
   "outputs": [],
   "source": [
    "from sklearn import cross_validation\n",
    "from sklearn.ensemble import RandomForestClassifier\n",
    "from sklearn.metrics import accuracy_score\n",
    "from sklearn.metrics import confusion_matrix\n",
    "\n",
    "# Choix d'une référence pour les résultats aléatoires\n",
    "np.random.seed(2016)"
   ]
  },
  {
   "cell_type": "markdown",
   "metadata": {},
   "source": [
    "Je choisis de procéder à une cross-validation manuelle dans le cadre de l'exercice au sein des données `train`. Je les divise en 80% pour entraîner et 20% pour tester. "
   ]
  },
  {
   "cell_type": "code",
   "execution_count": 745,
   "metadata": {
    "collapsed": true
   },
   "outputs": [],
   "source": [
    "sub_train, sub_test, sub_train_outcome, sub_test_outcome = cross_validation.train_test_split(train_features, \n",
    "                                                                                             train_outcome, \n",
    "                                                                                             test_size=0.2, \n",
    "                                                                                             random_state=0)"
   ]
  },
  {
   "cell_type": "markdown",
   "metadata": {},
   "source": [
    "Dans le cadre de l'étude de la variable `Etage`, nous cherchons à déterminer des résultats sous forme de catégories. Nous sommes donc dans une optique de classification et utilisons donc l'algorithme Random Forest."
   ]
  },
  {
   "cell_type": "markdown",
   "metadata": {},
   "source": [
    "### Application"
   ]
  },
  {
   "cell_type": "code",
   "execution_count": 746,
   "metadata": {
    "collapsed": false
   },
   "outputs": [],
   "source": [
    "clf = RandomForestClassifier(n_estimators=10)\n",
    "clf = clf.fit(sub_train, sub_train_outcome)"
   ]
  },
  {
   "cell_type": "markdown",
   "metadata": {},
   "source": [
    "J'entraîne mon modèle et l'applique sur mon ensemble de sous-test."
   ]
  },
  {
   "cell_type": "code",
   "execution_count": 747,
   "metadata": {
    "collapsed": true
   },
   "outputs": [],
   "source": [
    "rf_sub_test_results = clf.predict(sub_test)"
   ]
  },
  {
   "cell_type": "code",
   "execution_count": 748,
   "metadata": {
    "collapsed": false
   },
   "outputs": [
    {
     "data": {
      "text/plain": [
       "0.89473684210526316"
      ]
     },
     "execution_count": 748,
     "metadata": {},
     "output_type": "execute_result"
    }
   ],
   "source": [
    "accuracy_score(sub_test_outcome, rf_sub_test_results)"
   ]
  },
  {
   "cell_type": "markdown",
   "metadata": {},
   "source": [
    "La pertinence atteint 89.47%.\n",
    "J'étudie les particularités de l'algorithme et notamment des variables les plus importantes."
   ]
  },
  {
   "cell_type": "code",
   "execution_count": 749,
   "metadata": {
    "collapsed": false
   },
   "outputs": [
    {
     "name": "stdout",
     "output_type": "stream",
     "text": [
      "Top des variables:\n",
      "0. Numero billet (0.244537)\n",
      "1. Reservation (0.136839)\n",
      "2. Cle spectacle (0.120432)\n",
      "3. Cle representation (0.097015)\n",
      "4. Prix (0.096528)\n",
      "5. Tarif (0.063797)\n",
      "6. Type de produit (0.061605)\n",
      "7. Serie (0.041001)\n",
      "8. Filiere de vente (0.040456)\n",
      "9. Nom (0.026068)\n",
      "10. Code postal (0.025139)\n",
      "11. Sexe (0.019568)\n",
      "12. hour (0.019457)\n",
      "13. day (0.007557)\n"
     ]
    }
   ],
   "source": [
    "importances = clf.feature_importances_\n",
    "std = np.std([tree.feature_importances_ for tree in clf.estimators_], axis=0)\n",
    "indices = np.argsort(importances)[::-1]\n",
    "\n",
    "# Affichage du top des variables\n",
    "print(\"Top des variables:\")\n",
    "\n",
    "col_labels = sub_test.columns.values.tolist()\n",
    "for var in range(0, len(col_labels)):\n",
    "    print(\"%d. %s (%f)\" % (var, col_labels[var], importances[indices[var]]))"
   ]
  },
  {
   "cell_type": "markdown",
   "metadata": {},
   "source": [
    "Je réalise un graphique afin de visualiser leur importance."
   ]
  },
  {
   "cell_type": "code",
   "execution_count": 750,
   "metadata": {
    "collapsed": false
   },
   "outputs": [
    {
     "data": {
      "image/png": "[encoded data removed]",
      "text/plain": [
       "<matplotlib.figure.Figure at 0x1204e1b70>"
      ]
     },
     "metadata": {},
     "output_type": "display_data"
    }
   ],
   "source": [
    "plt.figure()\n",
    "plt.title(\"Importance des variables\")\n",
    "plt.bar(range(0, len(col_labels)), importances[indices], yerr=std[indices], align='center')\n",
    "plt.xticks(range(0, len(col_labels)), col_labels, rotation='vertical')\n",
    "plt.xlim([-1, len(col_labels)])\n",
    "plt.show()"
   ]
  },
  {
   "cell_type": "code",
   "execution_count": 751,
   "metadata": {
    "collapsed": false
   },
   "outputs": [],
   "source": [
    "cm = confusion_matrix(sub_test_outcome, np.around(rf_sub_test_results))"
   ]
  },
  {
   "cell_type": "code",
   "execution_count": 752,
   "metadata": {
    "collapsed": false
   },
   "outputs": [
    {
     "data": {
      "image/png": "[encoded data removed]",
      "text/plain": [
       "<matplotlib.figure.Figure at 0x1208b6208>"
      ]
     },
     "metadata": {},
     "output_type": "display_data"
    }
   ],
   "source": [
    "def plot_confusion_matrix(cm, title=\"Matrice de confusion\", cmap=plt.cm.Blues):\n",
    "    plt.imshow(cm, interpolation='nearest', cmap=cmap)\n",
    "    plt.title(title)\n",
    "    plt.colorbar()\n",
    "    plt.tight_layout()\n",
    "    plt.ylabel(\"Valeurs réelles\")\n",
    "    plt.xlabel(\"Prédictions\")\n",
    "\n",
    "plt.figure()\n",
    "plot_confusion_matrix(cm)"
   ]
  },
  {
   "cell_type": "markdown",
   "metadata": {},
   "source": [
    "### Prédiction"
   ]
  },
  {
   "cell_type": "markdown",
   "metadata": {},
   "source": [
    "J'applique l'algorithme sur l'ensemble de test final."
   ]
  },
  {
   "cell_type": "code",
   "execution_count": 753,
   "metadata": {
    "collapsed": false
   },
   "outputs": [
    {
     "data": {
      "text/plain": [
       "array([0, 1, 1, 1, 1])"
      ]
     },
     "execution_count": 753,
     "metadata": {},
     "output_type": "execute_result"
    }
   ],
   "source": [
    "rf_test_results = clf.predict(test_features)\n",
    "rf_test_results"
   ]
  },
  {
   "cell_type": "code",
   "execution_count": 754,
   "metadata": {
    "collapsed": false
   },
   "outputs": [],
   "source": [
    "etages = data['Etage'].unique()\n",
    "\n",
    "# Création d'un dataframe contenant les valeurs finales\n",
    "valid_etages = []\n",
    "for key in np.nditer(rf_test_results):\n",
    "    valid_etages.insert(key, etages[key])"
   ]
  },
  {
   "cell_type": "code",
   "execution_count": 755,
   "metadata": {
    "collapsed": false
   },
   "outputs": [
    {
     "data": {
      "text/html": [
       "<div>\n",
       "<table border=\"1\" class=\"dataframe\">\n",
       "  <thead>\n",
       "    <tr style=\"text-align: right;\">\n",
       "      <th></th>\n",
       "      <th>Etage</th>\n",
       "    </tr>\n",
       "  </thead>\n",
       "  <tbody>\n",
       "    <tr>\n",
       "      <th>4</th>\n",
       "      <td>CORBEILLE</td>\n",
       "    </tr>\n",
       "    <tr>\n",
       "      <th>50</th>\n",
       "      <td>ORCHESTRE</td>\n",
       "    </tr>\n",
       "    <tr>\n",
       "      <th>51</th>\n",
       "      <td>ORCHESTRE</td>\n",
       "    </tr>\n",
       "    <tr>\n",
       "      <th>62</th>\n",
       "      <td>ORCHESTRE</td>\n",
       "    </tr>\n",
       "    <tr>\n",
       "      <th>70</th>\n",
       "      <td>ORCHESTRE</td>\n",
       "    </tr>\n",
       "  </tbody>\n",
       "</table>\n",
       "</div>"
      ],
      "text/plain": [
       "        Etage\n",
       "4   CORBEILLE\n",
       "50  ORCHESTRE\n",
       "51  ORCHESTRE\n",
       "62  ORCHESTRE\n",
       "70  ORCHESTRE"
      ]
     },
     "execution_count": 755,
     "metadata": {},
     "output_type": "execute_result"
    }
   ],
   "source": [
    "final_etage = pd.DataFrame(validEtages, index=test.index, columns=['Etage'])\n",
    "final_etage"
   ]
  },
  {
   "cell_type": "code",
   "execution_count": 756,
   "metadata": {
    "collapsed": false
   },
   "outputs": [],
   "source": [
    "test_features['Etage'] = final_etage['Etage']"
   ]
  },
  {
   "cell_type": "markdown",
   "metadata": {},
   "source": [
    "D'après l'algorithme, voici les résultats que nous devrions avoir pour la variable `Etage` sur les cinq valeurs manquantes."
   ]
  },
  {
   "cell_type": "code",
   "execution_count": 757,
   "metadata": {
    "collapsed": false
   },
   "outputs": [
    {
     "data": {
      "text/html": [
       "<div>\n",
       "<table border=\"1\" class=\"dataframe\">\n",
       "  <thead>\n",
       "    <tr style=\"text-align: right;\">\n",
       "      <th></th>\n",
       "      <th>Numero billet</th>\n",
       "      <th>Reservation</th>\n",
       "      <th>Cle spectacle</th>\n",
       "      <th>Cle representation</th>\n",
       "      <th>Prix</th>\n",
       "      <th>Tarif</th>\n",
       "      <th>Type de produit</th>\n",
       "      <th>Serie</th>\n",
       "      <th>Filiere de vente</th>\n",
       "      <th>Nom</th>\n",
       "      <th>Code postal</th>\n",
       "      <th>Sexe</th>\n",
       "      <th>hour</th>\n",
       "      <th>day</th>\n",
       "      <th>Etage</th>\n",
       "    </tr>\n",
       "  </thead>\n",
       "  <tbody>\n",
       "    <tr>\n",
       "      <th>4</th>\n",
       "      <td>1400229</td>\n",
       "      <td>843986</td>\n",
       "      <td>483</td>\n",
       "      <td>3268</td>\n",
       "      <td>15.0</td>\n",
       "      <td>1</td>\n",
       "      <td>0</td>\n",
       "      <td>3</td>\n",
       "      <td>1</td>\n",
       "      <td>12</td>\n",
       "      <td>69110</td>\n",
       "      <td>0</td>\n",
       "      <td>16</td>\n",
       "      <td>155</td>\n",
       "      <td>CORBEILLE</td>\n",
       "    </tr>\n",
       "    <tr>\n",
       "      <th>50</th>\n",
       "      <td>1491917</td>\n",
       "      <td>838748</td>\n",
       "      <td>552</td>\n",
       "      <td>3694</td>\n",
       "      <td>15.0</td>\n",
       "      <td>1</td>\n",
       "      <td>0</td>\n",
       "      <td>3</td>\n",
       "      <td>1</td>\n",
       "      <td>1</td>\n",
       "      <td>69004</td>\n",
       "      <td>1</td>\n",
       "      <td>12</td>\n",
       "      <td>153</td>\n",
       "      <td>ORCHESTRE</td>\n",
       "    </tr>\n",
       "    <tr>\n",
       "      <th>51</th>\n",
       "      <td>1491918</td>\n",
       "      <td>838748</td>\n",
       "      <td>552</td>\n",
       "      <td>3694</td>\n",
       "      <td>15.0</td>\n",
       "      <td>1</td>\n",
       "      <td>0</td>\n",
       "      <td>3</td>\n",
       "      <td>1</td>\n",
       "      <td>1</td>\n",
       "      <td>69004</td>\n",
       "      <td>1</td>\n",
       "      <td>12</td>\n",
       "      <td>153</td>\n",
       "      <td>ORCHESTRE</td>\n",
       "    </tr>\n",
       "    <tr>\n",
       "      <th>62</th>\n",
       "      <td>1491929</td>\n",
       "      <td>838779</td>\n",
       "      <td>552</td>\n",
       "      <td>3694</td>\n",
       "      <td>15.0</td>\n",
       "      <td>1</td>\n",
       "      <td>0</td>\n",
       "      <td>3</td>\n",
       "      <td>1</td>\n",
       "      <td>10</td>\n",
       "      <td>69004</td>\n",
       "      <td>1</td>\n",
       "      <td>12</td>\n",
       "      <td>153</td>\n",
       "      <td>ORCHESTRE</td>\n",
       "    </tr>\n",
       "    <tr>\n",
       "      <th>70</th>\n",
       "      <td>1491937</td>\n",
       "      <td>838788</td>\n",
       "      <td>552</td>\n",
       "      <td>3694</td>\n",
       "      <td>15.0</td>\n",
       "      <td>1</td>\n",
       "      <td>0</td>\n",
       "      <td>3</td>\n",
       "      <td>1</td>\n",
       "      <td>10</td>\n",
       "      <td>69004</td>\n",
       "      <td>1</td>\n",
       "      <td>12</td>\n",
       "      <td>153</td>\n",
       "      <td>ORCHESTRE</td>\n",
       "    </tr>\n",
       "  </tbody>\n",
       "</table>\n",
       "</div>"
      ],
      "text/plain": [
       "    Numero billet  Reservation  Cle spectacle  Cle representation  Prix  \\\n",
       "4         1400229       843986            483                3268  15.0   \n",
       "50        1491917       838748            552                3694  15.0   \n",
       "51        1491918       838748            552                3694  15.0   \n",
       "62        1491929       838779            552                3694  15.0   \n",
       "70        1491937       838788            552                3694  15.0   \n",
       "\n",
       "    Tarif  Type de produit  Serie  Filiere de vente  Nom  Code postal  Sexe  \\\n",
       "4       1                0      3                 1   12        69110     0   \n",
       "50      1                0      3                 1    1        69004     1   \n",
       "51      1                0      3                 1    1        69004     1   \n",
       "62      1                0      3                 1   10        69004     1   \n",
       "70      1                0      3                 1   10        69004     1   \n",
       "\n",
       "    hour  day      Etage  \n",
       "4     16  155  CORBEILLE  \n",
       "50    12  153  ORCHESTRE  \n",
       "51    12  153  ORCHESTRE  \n",
       "62    12  153  ORCHESTRE  \n",
       "70    12  153  ORCHESTRE  "
      ]
     },
     "execution_count": 757,
     "metadata": {},
     "output_type": "execute_result"
    }
   ],
   "source": [
    "test_features"
   ]
  },
  {
   "cell_type": "code",
   "execution_count": null,
   "metadata": {
    "collapsed": true
   },
   "outputs": [],
   "source": []
  }
 ],
 "metadata": {
  "kernelspec": {
   "display_name": "Python 3",
   "language": "python",
   "name": "python3"
  },
  "language_info": {
   "codemirror_mode": {
    "name": "ipython",
    "version": 3
   },
   "file_extension": ".py",
   "mimetype": "text/x-python",
   "name": "python",
   "nbconvert_exporter": "python",
   "pygments_lexer": "ipython3",
   "version": "3.5.1"
  }
 },
 "nbformat": 4,
 "nbformat_minor": 0
}
